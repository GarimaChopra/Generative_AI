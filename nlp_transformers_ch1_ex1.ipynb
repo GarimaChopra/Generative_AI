{
  "nbformat": 4,
  "nbformat_minor": 0,
  "metadata": {
    "colab": {
      "provenance": [],
      "include_colab_link": true
    },
    "kernelspec": {
      "name": "python3",
      "display_name": "Python 3"
    },
    "language_info": {
      "name": "python"
    },
    "widgets": {
      "application/vnd.jupyter.widget-state+json": {
        "5209e4d190ec4328aee7007c5fd2b43e": {
          "model_module": "@jupyter-widgets/controls",
          "model_name": "HBoxModel",
          "model_module_version": "1.5.0",
          "state": {
            "_dom_classes": [],
            "_model_module": "@jupyter-widgets/controls",
            "_model_module_version": "1.5.0",
            "_model_name": "HBoxModel",
            "_view_count": null,
            "_view_module": "@jupyter-widgets/controls",
            "_view_module_version": "1.5.0",
            "_view_name": "HBoxView",
            "box_style": "",
            "children": [
              "IPY_MODEL_fff2ab870af6452588bc9d8a26572194",
              "IPY_MODEL_d4df7356962641cfa77a57073d96e3c4",
              "IPY_MODEL_2273d51030d44066bfc3104a1428fb55"
            ],
            "layout": "IPY_MODEL_ea7c59957bfe4e448b9e993a28133091"
          }
        },
        "fff2ab870af6452588bc9d8a26572194": {
          "model_module": "@jupyter-widgets/controls",
          "model_name": "HTMLModel",
          "model_module_version": "1.5.0",
          "state": {
            "_dom_classes": [],
            "_model_module": "@jupyter-widgets/controls",
            "_model_module_version": "1.5.0",
            "_model_name": "HTMLModel",
            "_view_count": null,
            "_view_module": "@jupyter-widgets/controls",
            "_view_module_version": "1.5.0",
            "_view_name": "HTMLView",
            "description": "",
            "description_tooltip": null,
            "layout": "IPY_MODEL_afb9dcab6b1643fe8af61b881e29ed94",
            "placeholder": "​",
            "style": "IPY_MODEL_a788197d10ad423a99c6bde945fbae97",
            "value": "Downloading (…)lve/main/config.json: 100%"
          }
        },
        "d4df7356962641cfa77a57073d96e3c4": {
          "model_module": "@jupyter-widgets/controls",
          "model_name": "FloatProgressModel",
          "model_module_version": "1.5.0",
          "state": {
            "_dom_classes": [],
            "_model_module": "@jupyter-widgets/controls",
            "_model_module_version": "1.5.0",
            "_model_name": "FloatProgressModel",
            "_view_count": null,
            "_view_module": "@jupyter-widgets/controls",
            "_view_module_version": "1.5.0",
            "_view_name": "ProgressView",
            "bar_style": "success",
            "description": "",
            "description_tooltip": null,
            "layout": "IPY_MODEL_f958f9cb116341c483148e7e13a9ec58",
            "max": 1208,
            "min": 0,
            "orientation": "horizontal",
            "style": "IPY_MODEL_526220ebdc3d472bb8f1a340de2b1673",
            "value": 1208
          }
        },
        "2273d51030d44066bfc3104a1428fb55": {
          "model_module": "@jupyter-widgets/controls",
          "model_name": "HTMLModel",
          "model_module_version": "1.5.0",
          "state": {
            "_dom_classes": [],
            "_model_module": "@jupyter-widgets/controls",
            "_model_module_version": "1.5.0",
            "_model_name": "HTMLModel",
            "_view_count": null,
            "_view_module": "@jupyter-widgets/controls",
            "_view_module_version": "1.5.0",
            "_view_name": "HTMLView",
            "description": "",
            "description_tooltip": null,
            "layout": "IPY_MODEL_920f8a54afe5409db1ce6c77e2a3f01a",
            "placeholder": "​",
            "style": "IPY_MODEL_bcdf3d26ec8448e29737e4c06595dbe2",
            "value": " 1.21k/1.21k [00:00&lt;00:00, 51.3kB/s]"
          }
        },
        "ea7c59957bfe4e448b9e993a28133091": {
          "model_module": "@jupyter-widgets/base",
          "model_name": "LayoutModel",
          "model_module_version": "1.2.0",
          "state": {
            "_model_module": "@jupyter-widgets/base",
            "_model_module_version": "1.2.0",
            "_model_name": "LayoutModel",
            "_view_count": null,
            "_view_module": "@jupyter-widgets/base",
            "_view_module_version": "1.2.0",
            "_view_name": "LayoutView",
            "align_content": null,
            "align_items": null,
            "align_self": null,
            "border": null,
            "bottom": null,
            "display": null,
            "flex": null,
            "flex_flow": null,
            "grid_area": null,
            "grid_auto_columns": null,
            "grid_auto_flow": null,
            "grid_auto_rows": null,
            "grid_column": null,
            "grid_gap": null,
            "grid_row": null,
            "grid_template_areas": null,
            "grid_template_columns": null,
            "grid_template_rows": null,
            "height": null,
            "justify_content": null,
            "justify_items": null,
            "left": null,
            "margin": null,
            "max_height": null,
            "max_width": null,
            "min_height": null,
            "min_width": null,
            "object_fit": null,
            "object_position": null,
            "order": null,
            "overflow": null,
            "overflow_x": null,
            "overflow_y": null,
            "padding": null,
            "right": null,
            "top": null,
            "visibility": null,
            "width": null
          }
        },
        "afb9dcab6b1643fe8af61b881e29ed94": {
          "model_module": "@jupyter-widgets/base",
          "model_name": "LayoutModel",
          "model_module_version": "1.2.0",
          "state": {
            "_model_module": "@jupyter-widgets/base",
            "_model_module_version": "1.2.0",
            "_model_name": "LayoutModel",
            "_view_count": null,
            "_view_module": "@jupyter-widgets/base",
            "_view_module_version": "1.2.0",
            "_view_name": "LayoutView",
            "align_content": null,
            "align_items": null,
            "align_self": null,
            "border": null,
            "bottom": null,
            "display": null,
            "flex": null,
            "flex_flow": null,
            "grid_area": null,
            "grid_auto_columns": null,
            "grid_auto_flow": null,
            "grid_auto_rows": null,
            "grid_column": null,
            "grid_gap": null,
            "grid_row": null,
            "grid_template_areas": null,
            "grid_template_columns": null,
            "grid_template_rows": null,
            "height": null,
            "justify_content": null,
            "justify_items": null,
            "left": null,
            "margin": null,
            "max_height": null,
            "max_width": null,
            "min_height": null,
            "min_width": null,
            "object_fit": null,
            "object_position": null,
            "order": null,
            "overflow": null,
            "overflow_x": null,
            "overflow_y": null,
            "padding": null,
            "right": null,
            "top": null,
            "visibility": null,
            "width": null
          }
        },
        "a788197d10ad423a99c6bde945fbae97": {
          "model_module": "@jupyter-widgets/controls",
          "model_name": "DescriptionStyleModel",
          "model_module_version": "1.5.0",
          "state": {
            "_model_module": "@jupyter-widgets/controls",
            "_model_module_version": "1.5.0",
            "_model_name": "DescriptionStyleModel",
            "_view_count": null,
            "_view_module": "@jupyter-widgets/base",
            "_view_module_version": "1.2.0",
            "_view_name": "StyleView",
            "description_width": ""
          }
        },
        "f958f9cb116341c483148e7e13a9ec58": {
          "model_module": "@jupyter-widgets/base",
          "model_name": "LayoutModel",
          "model_module_version": "1.2.0",
          "state": {
            "_model_module": "@jupyter-widgets/base",
            "_model_module_version": "1.2.0",
            "_model_name": "LayoutModel",
            "_view_count": null,
            "_view_module": "@jupyter-widgets/base",
            "_view_module_version": "1.2.0",
            "_view_name": "LayoutView",
            "align_content": null,
            "align_items": null,
            "align_self": null,
            "border": null,
            "bottom": null,
            "display": null,
            "flex": null,
            "flex_flow": null,
            "grid_area": null,
            "grid_auto_columns": null,
            "grid_auto_flow": null,
            "grid_auto_rows": null,
            "grid_column": null,
            "grid_gap": null,
            "grid_row": null,
            "grid_template_areas": null,
            "grid_template_columns": null,
            "grid_template_rows": null,
            "height": null,
            "justify_content": null,
            "justify_items": null,
            "left": null,
            "margin": null,
            "max_height": null,
            "max_width": null,
            "min_height": null,
            "min_width": null,
            "object_fit": null,
            "object_position": null,
            "order": null,
            "overflow": null,
            "overflow_x": null,
            "overflow_y": null,
            "padding": null,
            "right": null,
            "top": null,
            "visibility": null,
            "width": null
          }
        },
        "526220ebdc3d472bb8f1a340de2b1673": {
          "model_module": "@jupyter-widgets/controls",
          "model_name": "ProgressStyleModel",
          "model_module_version": "1.5.0",
          "state": {
            "_model_module": "@jupyter-widgets/controls",
            "_model_module_version": "1.5.0",
            "_model_name": "ProgressStyleModel",
            "_view_count": null,
            "_view_module": "@jupyter-widgets/base",
            "_view_module_version": "1.2.0",
            "_view_name": "StyleView",
            "bar_color": null,
            "description_width": ""
          }
        },
        "920f8a54afe5409db1ce6c77e2a3f01a": {
          "model_module": "@jupyter-widgets/base",
          "model_name": "LayoutModel",
          "model_module_version": "1.2.0",
          "state": {
            "_model_module": "@jupyter-widgets/base",
            "_model_module_version": "1.2.0",
            "_model_name": "LayoutModel",
            "_view_count": null,
            "_view_module": "@jupyter-widgets/base",
            "_view_module_version": "1.2.0",
            "_view_name": "LayoutView",
            "align_content": null,
            "align_items": null,
            "align_self": null,
            "border": null,
            "bottom": null,
            "display": null,
            "flex": null,
            "flex_flow": null,
            "grid_area": null,
            "grid_auto_columns": null,
            "grid_auto_flow": null,
            "grid_auto_rows": null,
            "grid_column": null,
            "grid_gap": null,
            "grid_row": null,
            "grid_template_areas": null,
            "grid_template_columns": null,
            "grid_template_rows": null,
            "height": null,
            "justify_content": null,
            "justify_items": null,
            "left": null,
            "margin": null,
            "max_height": null,
            "max_width": null,
            "min_height": null,
            "min_width": null,
            "object_fit": null,
            "object_position": null,
            "order": null,
            "overflow": null,
            "overflow_x": null,
            "overflow_y": null,
            "padding": null,
            "right": null,
            "top": null,
            "visibility": null,
            "width": null
          }
        },
        "bcdf3d26ec8448e29737e4c06595dbe2": {
          "model_module": "@jupyter-widgets/controls",
          "model_name": "DescriptionStyleModel",
          "model_module_version": "1.5.0",
          "state": {
            "_model_module": "@jupyter-widgets/controls",
            "_model_module_version": "1.5.0",
            "_model_name": "DescriptionStyleModel",
            "_view_count": null,
            "_view_module": "@jupyter-widgets/base",
            "_view_module_version": "1.2.0",
            "_view_name": "StyleView",
            "description_width": ""
          }
        },
        "adfecd2e78de43698aea90242aa58e0a": {
          "model_module": "@jupyter-widgets/controls",
          "model_name": "HBoxModel",
          "model_module_version": "1.5.0",
          "state": {
            "_dom_classes": [],
            "_model_module": "@jupyter-widgets/controls",
            "_model_module_version": "1.5.0",
            "_model_name": "HBoxModel",
            "_view_count": null,
            "_view_module": "@jupyter-widgets/controls",
            "_view_module_version": "1.5.0",
            "_view_name": "HBoxView",
            "box_style": "",
            "children": [
              "IPY_MODEL_22d9b32b335e4ce68751a226a84fff12",
              "IPY_MODEL_9bbdfb062f544ddba2c635f22bc9eaeb",
              "IPY_MODEL_7ab36cb718814970964bc28bf8cc052c"
            ],
            "layout": "IPY_MODEL_92b5420d008e41ac873f05aececa0c92"
          }
        },
        "22d9b32b335e4ce68751a226a84fff12": {
          "model_module": "@jupyter-widgets/controls",
          "model_name": "HTMLModel",
          "model_module_version": "1.5.0",
          "state": {
            "_dom_classes": [],
            "_model_module": "@jupyter-widgets/controls",
            "_model_module_version": "1.5.0",
            "_model_name": "HTMLModel",
            "_view_count": null,
            "_view_module": "@jupyter-widgets/controls",
            "_view_module_version": "1.5.0",
            "_view_name": "HTMLView",
            "description": "",
            "description_tooltip": null,
            "layout": "IPY_MODEL_c9aa21a9eb96489bb54a33ed84ac1753",
            "placeholder": "​",
            "style": "IPY_MODEL_24266e3c32084b4c804a1e699d091a12",
            "value": "Downloading model.safetensors: 100%"
          }
        },
        "9bbdfb062f544ddba2c635f22bc9eaeb": {
          "model_module": "@jupyter-widgets/controls",
          "model_name": "FloatProgressModel",
          "model_module_version": "1.5.0",
          "state": {
            "_dom_classes": [],
            "_model_module": "@jupyter-widgets/controls",
            "_model_module_version": "1.5.0",
            "_model_name": "FloatProgressModel",
            "_view_count": null,
            "_view_module": "@jupyter-widgets/controls",
            "_view_module_version": "1.5.0",
            "_view_name": "ProgressView",
            "bar_style": "success",
            "description": "",
            "description_tooltip": null,
            "layout": "IPY_MODEL_353b091d907c4567bdccd31f09d6dc76",
            "max": 891646390,
            "min": 0,
            "orientation": "horizontal",
            "style": "IPY_MODEL_0cc15c910fba4a52af884ba3b3457606",
            "value": 891646390
          }
        },
        "7ab36cb718814970964bc28bf8cc052c": {
          "model_module": "@jupyter-widgets/controls",
          "model_name": "HTMLModel",
          "model_module_version": "1.5.0",
          "state": {
            "_dom_classes": [],
            "_model_module": "@jupyter-widgets/controls",
            "_model_module_version": "1.5.0",
            "_model_name": "HTMLModel",
            "_view_count": null,
            "_view_module": "@jupyter-widgets/controls",
            "_view_module_version": "1.5.0",
            "_view_name": "HTMLView",
            "description": "",
            "description_tooltip": null,
            "layout": "IPY_MODEL_c0b67a689b214f4b91a389dd227b0dd3",
            "placeholder": "​",
            "style": "IPY_MODEL_d2abd41fcf3e4e93bc33c966ea2d1475",
            "value": " 892M/892M [00:08&lt;00:00, 59.9MB/s]"
          }
        },
        "92b5420d008e41ac873f05aececa0c92": {
          "model_module": "@jupyter-widgets/base",
          "model_name": "LayoutModel",
          "model_module_version": "1.2.0",
          "state": {
            "_model_module": "@jupyter-widgets/base",
            "_model_module_version": "1.2.0",
            "_model_name": "LayoutModel",
            "_view_count": null,
            "_view_module": "@jupyter-widgets/base",
            "_view_module_version": "1.2.0",
            "_view_name": "LayoutView",
            "align_content": null,
            "align_items": null,
            "align_self": null,
            "border": null,
            "bottom": null,
            "display": null,
            "flex": null,
            "flex_flow": null,
            "grid_area": null,
            "grid_auto_columns": null,
            "grid_auto_flow": null,
            "grid_auto_rows": null,
            "grid_column": null,
            "grid_gap": null,
            "grid_row": null,
            "grid_template_areas": null,
            "grid_template_columns": null,
            "grid_template_rows": null,
            "height": null,
            "justify_content": null,
            "justify_items": null,
            "left": null,
            "margin": null,
            "max_height": null,
            "max_width": null,
            "min_height": null,
            "min_width": null,
            "object_fit": null,
            "object_position": null,
            "order": null,
            "overflow": null,
            "overflow_x": null,
            "overflow_y": null,
            "padding": null,
            "right": null,
            "top": null,
            "visibility": null,
            "width": null
          }
        },
        "c9aa21a9eb96489bb54a33ed84ac1753": {
          "model_module": "@jupyter-widgets/base",
          "model_name": "LayoutModel",
          "model_module_version": "1.2.0",
          "state": {
            "_model_module": "@jupyter-widgets/base",
            "_model_module_version": "1.2.0",
            "_model_name": "LayoutModel",
            "_view_count": null,
            "_view_module": "@jupyter-widgets/base",
            "_view_module_version": "1.2.0",
            "_view_name": "LayoutView",
            "align_content": null,
            "align_items": null,
            "align_self": null,
            "border": null,
            "bottom": null,
            "display": null,
            "flex": null,
            "flex_flow": null,
            "grid_area": null,
            "grid_auto_columns": null,
            "grid_auto_flow": null,
            "grid_auto_rows": null,
            "grid_column": null,
            "grid_gap": null,
            "grid_row": null,
            "grid_template_areas": null,
            "grid_template_columns": null,
            "grid_template_rows": null,
            "height": null,
            "justify_content": null,
            "justify_items": null,
            "left": null,
            "margin": null,
            "max_height": null,
            "max_width": null,
            "min_height": null,
            "min_width": null,
            "object_fit": null,
            "object_position": null,
            "order": null,
            "overflow": null,
            "overflow_x": null,
            "overflow_y": null,
            "padding": null,
            "right": null,
            "top": null,
            "visibility": null,
            "width": null
          }
        },
        "24266e3c32084b4c804a1e699d091a12": {
          "model_module": "@jupyter-widgets/controls",
          "model_name": "DescriptionStyleModel",
          "model_module_version": "1.5.0",
          "state": {
            "_model_module": "@jupyter-widgets/controls",
            "_model_module_version": "1.5.0",
            "_model_name": "DescriptionStyleModel",
            "_view_count": null,
            "_view_module": "@jupyter-widgets/base",
            "_view_module_version": "1.2.0",
            "_view_name": "StyleView",
            "description_width": ""
          }
        },
        "353b091d907c4567bdccd31f09d6dc76": {
          "model_module": "@jupyter-widgets/base",
          "model_name": "LayoutModel",
          "model_module_version": "1.2.0",
          "state": {
            "_model_module": "@jupyter-widgets/base",
            "_model_module_version": "1.2.0",
            "_model_name": "LayoutModel",
            "_view_count": null,
            "_view_module": "@jupyter-widgets/base",
            "_view_module_version": "1.2.0",
            "_view_name": "LayoutView",
            "align_content": null,
            "align_items": null,
            "align_self": null,
            "border": null,
            "bottom": null,
            "display": null,
            "flex": null,
            "flex_flow": null,
            "grid_area": null,
            "grid_auto_columns": null,
            "grid_auto_flow": null,
            "grid_auto_rows": null,
            "grid_column": null,
            "grid_gap": null,
            "grid_row": null,
            "grid_template_areas": null,
            "grid_template_columns": null,
            "grid_template_rows": null,
            "height": null,
            "justify_content": null,
            "justify_items": null,
            "left": null,
            "margin": null,
            "max_height": null,
            "max_width": null,
            "min_height": null,
            "min_width": null,
            "object_fit": null,
            "object_position": null,
            "order": null,
            "overflow": null,
            "overflow_x": null,
            "overflow_y": null,
            "padding": null,
            "right": null,
            "top": null,
            "visibility": null,
            "width": null
          }
        },
        "0cc15c910fba4a52af884ba3b3457606": {
          "model_module": "@jupyter-widgets/controls",
          "model_name": "ProgressStyleModel",
          "model_module_version": "1.5.0",
          "state": {
            "_model_module": "@jupyter-widgets/controls",
            "_model_module_version": "1.5.0",
            "_model_name": "ProgressStyleModel",
            "_view_count": null,
            "_view_module": "@jupyter-widgets/base",
            "_view_module_version": "1.2.0",
            "_view_name": "StyleView",
            "bar_color": null,
            "description_width": ""
          }
        },
        "c0b67a689b214f4b91a389dd227b0dd3": {
          "model_module": "@jupyter-widgets/base",
          "model_name": "LayoutModel",
          "model_module_version": "1.2.0",
          "state": {
            "_model_module": "@jupyter-widgets/base",
            "_model_module_version": "1.2.0",
            "_model_name": "LayoutModel",
            "_view_count": null,
            "_view_module": "@jupyter-widgets/base",
            "_view_module_version": "1.2.0",
            "_view_name": "LayoutView",
            "align_content": null,
            "align_items": null,
            "align_self": null,
            "border": null,
            "bottom": null,
            "display": null,
            "flex": null,
            "flex_flow": null,
            "grid_area": null,
            "grid_auto_columns": null,
            "grid_auto_flow": null,
            "grid_auto_rows": null,
            "grid_column": null,
            "grid_gap": null,
            "grid_row": null,
            "grid_template_areas": null,
            "grid_template_columns": null,
            "grid_template_rows": null,
            "height": null,
            "justify_content": null,
            "justify_items": null,
            "left": null,
            "margin": null,
            "max_height": null,
            "max_width": null,
            "min_height": null,
            "min_width": null,
            "object_fit": null,
            "object_position": null,
            "order": null,
            "overflow": null,
            "overflow_x": null,
            "overflow_y": null,
            "padding": null,
            "right": null,
            "top": null,
            "visibility": null,
            "width": null
          }
        },
        "d2abd41fcf3e4e93bc33c966ea2d1475": {
          "model_module": "@jupyter-widgets/controls",
          "model_name": "DescriptionStyleModel",
          "model_module_version": "1.5.0",
          "state": {
            "_model_module": "@jupyter-widgets/controls",
            "_model_module_version": "1.5.0",
            "_model_name": "DescriptionStyleModel",
            "_view_count": null,
            "_view_module": "@jupyter-widgets/base",
            "_view_module_version": "1.2.0",
            "_view_name": "StyleView",
            "description_width": ""
          }
        },
        "07edd47e6c66496e89791e5d109464f2": {
          "model_module": "@jupyter-widgets/controls",
          "model_name": "HBoxModel",
          "model_module_version": "1.5.0",
          "state": {
            "_dom_classes": [],
            "_model_module": "@jupyter-widgets/controls",
            "_model_module_version": "1.5.0",
            "_model_name": "HBoxModel",
            "_view_count": null,
            "_view_module": "@jupyter-widgets/controls",
            "_view_module_version": "1.5.0",
            "_view_name": "HBoxView",
            "box_style": "",
            "children": [
              "IPY_MODEL_195955080654401e9843fce11f165db6",
              "IPY_MODEL_bd9b9b5aa78444ac9c7747472e1bb19b",
              "IPY_MODEL_5fae03d5b1fc49888114728f9cfd9ca2"
            ],
            "layout": "IPY_MODEL_7d2fe5538b3d40399249cf3e43f83392"
          }
        },
        "195955080654401e9843fce11f165db6": {
          "model_module": "@jupyter-widgets/controls",
          "model_name": "HTMLModel",
          "model_module_version": "1.5.0",
          "state": {
            "_dom_classes": [],
            "_model_module": "@jupyter-widgets/controls",
            "_model_module_version": "1.5.0",
            "_model_name": "HTMLModel",
            "_view_count": null,
            "_view_module": "@jupyter-widgets/controls",
            "_view_module_version": "1.5.0",
            "_view_name": "HTMLView",
            "description": "",
            "description_tooltip": null,
            "layout": "IPY_MODEL_509feac29aa84d059727bcf5947c27cd",
            "placeholder": "​",
            "style": "IPY_MODEL_03723602fb92472f9bdc561dc74741ac",
            "value": "Downloading (…)neration_config.json: 100%"
          }
        },
        "bd9b9b5aa78444ac9c7747472e1bb19b": {
          "model_module": "@jupyter-widgets/controls",
          "model_name": "FloatProgressModel",
          "model_module_version": "1.5.0",
          "state": {
            "_dom_classes": [],
            "_model_module": "@jupyter-widgets/controls",
            "_model_module_version": "1.5.0",
            "_model_name": "FloatProgressModel",
            "_view_count": null,
            "_view_module": "@jupyter-widgets/controls",
            "_view_module_version": "1.5.0",
            "_view_name": "ProgressView",
            "bar_style": "success",
            "description": "",
            "description_tooltip": null,
            "layout": "IPY_MODEL_07a7adda0e3d482ea69fc8195d817a77",
            "max": 147,
            "min": 0,
            "orientation": "horizontal",
            "style": "IPY_MODEL_5db3d22e42cd487ab73177d290c76ff3",
            "value": 147
          }
        },
        "5fae03d5b1fc49888114728f9cfd9ca2": {
          "model_module": "@jupyter-widgets/controls",
          "model_name": "HTMLModel",
          "model_module_version": "1.5.0",
          "state": {
            "_dom_classes": [],
            "_model_module": "@jupyter-widgets/controls",
            "_model_module_version": "1.5.0",
            "_model_name": "HTMLModel",
            "_view_count": null,
            "_view_module": "@jupyter-widgets/controls",
            "_view_module_version": "1.5.0",
            "_view_name": "HTMLView",
            "description": "",
            "description_tooltip": null,
            "layout": "IPY_MODEL_bf6accaa9b804f24a2386ef03ba6d095",
            "placeholder": "​",
            "style": "IPY_MODEL_d8b82e1a30fc4109acdcbbc6ea5d9214",
            "value": " 147/147 [00:00&lt;00:00, 3.54kB/s]"
          }
        },
        "7d2fe5538b3d40399249cf3e43f83392": {
          "model_module": "@jupyter-widgets/base",
          "model_name": "LayoutModel",
          "model_module_version": "1.2.0",
          "state": {
            "_model_module": "@jupyter-widgets/base",
            "_model_module_version": "1.2.0",
            "_model_name": "LayoutModel",
            "_view_count": null,
            "_view_module": "@jupyter-widgets/base",
            "_view_module_version": "1.2.0",
            "_view_name": "LayoutView",
            "align_content": null,
            "align_items": null,
            "align_self": null,
            "border": null,
            "bottom": null,
            "display": null,
            "flex": null,
            "flex_flow": null,
            "grid_area": null,
            "grid_auto_columns": null,
            "grid_auto_flow": null,
            "grid_auto_rows": null,
            "grid_column": null,
            "grid_gap": null,
            "grid_row": null,
            "grid_template_areas": null,
            "grid_template_columns": null,
            "grid_template_rows": null,
            "height": null,
            "justify_content": null,
            "justify_items": null,
            "left": null,
            "margin": null,
            "max_height": null,
            "max_width": null,
            "min_height": null,
            "min_width": null,
            "object_fit": null,
            "object_position": null,
            "order": null,
            "overflow": null,
            "overflow_x": null,
            "overflow_y": null,
            "padding": null,
            "right": null,
            "top": null,
            "visibility": null,
            "width": null
          }
        },
        "509feac29aa84d059727bcf5947c27cd": {
          "model_module": "@jupyter-widgets/base",
          "model_name": "LayoutModel",
          "model_module_version": "1.2.0",
          "state": {
            "_model_module": "@jupyter-widgets/base",
            "_model_module_version": "1.2.0",
            "_model_name": "LayoutModel",
            "_view_count": null,
            "_view_module": "@jupyter-widgets/base",
            "_view_module_version": "1.2.0",
            "_view_name": "LayoutView",
            "align_content": null,
            "align_items": null,
            "align_self": null,
            "border": null,
            "bottom": null,
            "display": null,
            "flex": null,
            "flex_flow": null,
            "grid_area": null,
            "grid_auto_columns": null,
            "grid_auto_flow": null,
            "grid_auto_rows": null,
            "grid_column": null,
            "grid_gap": null,
            "grid_row": null,
            "grid_template_areas": null,
            "grid_template_columns": null,
            "grid_template_rows": null,
            "height": null,
            "justify_content": null,
            "justify_items": null,
            "left": null,
            "margin": null,
            "max_height": null,
            "max_width": null,
            "min_height": null,
            "min_width": null,
            "object_fit": null,
            "object_position": null,
            "order": null,
            "overflow": null,
            "overflow_x": null,
            "overflow_y": null,
            "padding": null,
            "right": null,
            "top": null,
            "visibility": null,
            "width": null
          }
        },
        "03723602fb92472f9bdc561dc74741ac": {
          "model_module": "@jupyter-widgets/controls",
          "model_name": "DescriptionStyleModel",
          "model_module_version": "1.5.0",
          "state": {
            "_model_module": "@jupyter-widgets/controls",
            "_model_module_version": "1.5.0",
            "_model_name": "DescriptionStyleModel",
            "_view_count": null,
            "_view_module": "@jupyter-widgets/base",
            "_view_module_version": "1.2.0",
            "_view_name": "StyleView",
            "description_width": ""
          }
        },
        "07a7adda0e3d482ea69fc8195d817a77": {
          "model_module": "@jupyter-widgets/base",
          "model_name": "LayoutModel",
          "model_module_version": "1.2.0",
          "state": {
            "_model_module": "@jupyter-widgets/base",
            "_model_module_version": "1.2.0",
            "_model_name": "LayoutModel",
            "_view_count": null,
            "_view_module": "@jupyter-widgets/base",
            "_view_module_version": "1.2.0",
            "_view_name": "LayoutView",
            "align_content": null,
            "align_items": null,
            "align_self": null,
            "border": null,
            "bottom": null,
            "display": null,
            "flex": null,
            "flex_flow": null,
            "grid_area": null,
            "grid_auto_columns": null,
            "grid_auto_flow": null,
            "grid_auto_rows": null,
            "grid_column": null,
            "grid_gap": null,
            "grid_row": null,
            "grid_template_areas": null,
            "grid_template_columns": null,
            "grid_template_rows": null,
            "height": null,
            "justify_content": null,
            "justify_items": null,
            "left": null,
            "margin": null,
            "max_height": null,
            "max_width": null,
            "min_height": null,
            "min_width": null,
            "object_fit": null,
            "object_position": null,
            "order": null,
            "overflow": null,
            "overflow_x": null,
            "overflow_y": null,
            "padding": null,
            "right": null,
            "top": null,
            "visibility": null,
            "width": null
          }
        },
        "5db3d22e42cd487ab73177d290c76ff3": {
          "model_module": "@jupyter-widgets/controls",
          "model_name": "ProgressStyleModel",
          "model_module_version": "1.5.0",
          "state": {
            "_model_module": "@jupyter-widgets/controls",
            "_model_module_version": "1.5.0",
            "_model_name": "ProgressStyleModel",
            "_view_count": null,
            "_view_module": "@jupyter-widgets/base",
            "_view_module_version": "1.2.0",
            "_view_name": "StyleView",
            "bar_color": null,
            "description_width": ""
          }
        },
        "bf6accaa9b804f24a2386ef03ba6d095": {
          "model_module": "@jupyter-widgets/base",
          "model_name": "LayoutModel",
          "model_module_version": "1.2.0",
          "state": {
            "_model_module": "@jupyter-widgets/base",
            "_model_module_version": "1.2.0",
            "_model_name": "LayoutModel",
            "_view_count": null,
            "_view_module": "@jupyter-widgets/base",
            "_view_module_version": "1.2.0",
            "_view_name": "LayoutView",
            "align_content": null,
            "align_items": null,
            "align_self": null,
            "border": null,
            "bottom": null,
            "display": null,
            "flex": null,
            "flex_flow": null,
            "grid_area": null,
            "grid_auto_columns": null,
            "grid_auto_flow": null,
            "grid_auto_rows": null,
            "grid_column": null,
            "grid_gap": null,
            "grid_row": null,
            "grid_template_areas": null,
            "grid_template_columns": null,
            "grid_template_rows": null,
            "height": null,
            "justify_content": null,
            "justify_items": null,
            "left": null,
            "margin": null,
            "max_height": null,
            "max_width": null,
            "min_height": null,
            "min_width": null,
            "object_fit": null,
            "object_position": null,
            "order": null,
            "overflow": null,
            "overflow_x": null,
            "overflow_y": null,
            "padding": null,
            "right": null,
            "top": null,
            "visibility": null,
            "width": null
          }
        },
        "d8b82e1a30fc4109acdcbbc6ea5d9214": {
          "model_module": "@jupyter-widgets/controls",
          "model_name": "DescriptionStyleModel",
          "model_module_version": "1.5.0",
          "state": {
            "_model_module": "@jupyter-widgets/controls",
            "_model_module_version": "1.5.0",
            "_model_name": "DescriptionStyleModel",
            "_view_count": null,
            "_view_module": "@jupyter-widgets/base",
            "_view_module_version": "1.2.0",
            "_view_name": "StyleView",
            "description_width": ""
          }
        },
        "3a9b78d3a955461abd1ac4a7c5adad77": {
          "model_module": "@jupyter-widgets/controls",
          "model_name": "HBoxModel",
          "model_module_version": "1.5.0",
          "state": {
            "_dom_classes": [],
            "_model_module": "@jupyter-widgets/controls",
            "_model_module_version": "1.5.0",
            "_model_name": "HBoxModel",
            "_view_count": null,
            "_view_module": "@jupyter-widgets/controls",
            "_view_module_version": "1.5.0",
            "_view_name": "HBoxView",
            "box_style": "",
            "children": [
              "IPY_MODEL_ee0c37f4a6074458955068aa77ac3770",
              "IPY_MODEL_d323a791b43c4d6eb9286e40d9f4f69b",
              "IPY_MODEL_8d0cea935eb24227a04d4e2a71df0f9c"
            ],
            "layout": "IPY_MODEL_0585d38999fb4f169c7b408d0f1884eb"
          }
        },
        "ee0c37f4a6074458955068aa77ac3770": {
          "model_module": "@jupyter-widgets/controls",
          "model_name": "HTMLModel",
          "model_module_version": "1.5.0",
          "state": {
            "_dom_classes": [],
            "_model_module": "@jupyter-widgets/controls",
            "_model_module_version": "1.5.0",
            "_model_name": "HTMLModel",
            "_view_count": null,
            "_view_module": "@jupyter-widgets/controls",
            "_view_module_version": "1.5.0",
            "_view_name": "HTMLView",
            "description": "",
            "description_tooltip": null,
            "layout": "IPY_MODEL_0730bcbd1cd04867acf324aeb3d9f6b7",
            "placeholder": "​",
            "style": "IPY_MODEL_1a8b6442e4684753abd03c30dc0d7cd5",
            "value": "Downloading (…)ve/main/spiece.model: 100%"
          }
        },
        "d323a791b43c4d6eb9286e40d9f4f69b": {
          "model_module": "@jupyter-widgets/controls",
          "model_name": "FloatProgressModel",
          "model_module_version": "1.5.0",
          "state": {
            "_dom_classes": [],
            "_model_module": "@jupyter-widgets/controls",
            "_model_module_version": "1.5.0",
            "_model_name": "FloatProgressModel",
            "_view_count": null,
            "_view_module": "@jupyter-widgets/controls",
            "_view_module_version": "1.5.0",
            "_view_name": "ProgressView",
            "bar_style": "success",
            "description": "",
            "description_tooltip": null,
            "layout": "IPY_MODEL_f56d9329dd69421e831f92d0cf2f24e2",
            "max": 791656,
            "min": 0,
            "orientation": "horizontal",
            "style": "IPY_MODEL_a7e28837b8784aa688bc35c4dc044c9f",
            "value": 791656
          }
        },
        "8d0cea935eb24227a04d4e2a71df0f9c": {
          "model_module": "@jupyter-widgets/controls",
          "model_name": "HTMLModel",
          "model_module_version": "1.5.0",
          "state": {
            "_dom_classes": [],
            "_model_module": "@jupyter-widgets/controls",
            "_model_module_version": "1.5.0",
            "_model_name": "HTMLModel",
            "_view_count": null,
            "_view_module": "@jupyter-widgets/controls",
            "_view_module_version": "1.5.0",
            "_view_name": "HTMLView",
            "description": "",
            "description_tooltip": null,
            "layout": "IPY_MODEL_b7cd8b006b2e4d4f97ba2ff6ba407d41",
            "placeholder": "​",
            "style": "IPY_MODEL_5817997726014ace9aca8ced21bbcf2c",
            "value": " 792k/792k [00:00&lt;00:00, 7.71MB/s]"
          }
        },
        "0585d38999fb4f169c7b408d0f1884eb": {
          "model_module": "@jupyter-widgets/base",
          "model_name": "LayoutModel",
          "model_module_version": "1.2.0",
          "state": {
            "_model_module": "@jupyter-widgets/base",
            "_model_module_version": "1.2.0",
            "_model_name": "LayoutModel",
            "_view_count": null,
            "_view_module": "@jupyter-widgets/base",
            "_view_module_version": "1.2.0",
            "_view_name": "LayoutView",
            "align_content": null,
            "align_items": null,
            "align_self": null,
            "border": null,
            "bottom": null,
            "display": null,
            "flex": null,
            "flex_flow": null,
            "grid_area": null,
            "grid_auto_columns": null,
            "grid_auto_flow": null,
            "grid_auto_rows": null,
            "grid_column": null,
            "grid_gap": null,
            "grid_row": null,
            "grid_template_areas": null,
            "grid_template_columns": null,
            "grid_template_rows": null,
            "height": null,
            "justify_content": null,
            "justify_items": null,
            "left": null,
            "margin": null,
            "max_height": null,
            "max_width": null,
            "min_height": null,
            "min_width": null,
            "object_fit": null,
            "object_position": null,
            "order": null,
            "overflow": null,
            "overflow_x": null,
            "overflow_y": null,
            "padding": null,
            "right": null,
            "top": null,
            "visibility": null,
            "width": null
          }
        },
        "0730bcbd1cd04867acf324aeb3d9f6b7": {
          "model_module": "@jupyter-widgets/base",
          "model_name": "LayoutModel",
          "model_module_version": "1.2.0",
          "state": {
            "_model_module": "@jupyter-widgets/base",
            "_model_module_version": "1.2.0",
            "_model_name": "LayoutModel",
            "_view_count": null,
            "_view_module": "@jupyter-widgets/base",
            "_view_module_version": "1.2.0",
            "_view_name": "LayoutView",
            "align_content": null,
            "align_items": null,
            "align_self": null,
            "border": null,
            "bottom": null,
            "display": null,
            "flex": null,
            "flex_flow": null,
            "grid_area": null,
            "grid_auto_columns": null,
            "grid_auto_flow": null,
            "grid_auto_rows": null,
            "grid_column": null,
            "grid_gap": null,
            "grid_row": null,
            "grid_template_areas": null,
            "grid_template_columns": null,
            "grid_template_rows": null,
            "height": null,
            "justify_content": null,
            "justify_items": null,
            "left": null,
            "margin": null,
            "max_height": null,
            "max_width": null,
            "min_height": null,
            "min_width": null,
            "object_fit": null,
            "object_position": null,
            "order": null,
            "overflow": null,
            "overflow_x": null,
            "overflow_y": null,
            "padding": null,
            "right": null,
            "top": null,
            "visibility": null,
            "width": null
          }
        },
        "1a8b6442e4684753abd03c30dc0d7cd5": {
          "model_module": "@jupyter-widgets/controls",
          "model_name": "DescriptionStyleModel",
          "model_module_version": "1.5.0",
          "state": {
            "_model_module": "@jupyter-widgets/controls",
            "_model_module_version": "1.5.0",
            "_model_name": "DescriptionStyleModel",
            "_view_count": null,
            "_view_module": "@jupyter-widgets/base",
            "_view_module_version": "1.2.0",
            "_view_name": "StyleView",
            "description_width": ""
          }
        },
        "f56d9329dd69421e831f92d0cf2f24e2": {
          "model_module": "@jupyter-widgets/base",
          "model_name": "LayoutModel",
          "model_module_version": "1.2.0",
          "state": {
            "_model_module": "@jupyter-widgets/base",
            "_model_module_version": "1.2.0",
            "_model_name": "LayoutModel",
            "_view_count": null,
            "_view_module": "@jupyter-widgets/base",
            "_view_module_version": "1.2.0",
            "_view_name": "LayoutView",
            "align_content": null,
            "align_items": null,
            "align_self": null,
            "border": null,
            "bottom": null,
            "display": null,
            "flex": null,
            "flex_flow": null,
            "grid_area": null,
            "grid_auto_columns": null,
            "grid_auto_flow": null,
            "grid_auto_rows": null,
            "grid_column": null,
            "grid_gap": null,
            "grid_row": null,
            "grid_template_areas": null,
            "grid_template_columns": null,
            "grid_template_rows": null,
            "height": null,
            "justify_content": null,
            "justify_items": null,
            "left": null,
            "margin": null,
            "max_height": null,
            "max_width": null,
            "min_height": null,
            "min_width": null,
            "object_fit": null,
            "object_position": null,
            "order": null,
            "overflow": null,
            "overflow_x": null,
            "overflow_y": null,
            "padding": null,
            "right": null,
            "top": null,
            "visibility": null,
            "width": null
          }
        },
        "a7e28837b8784aa688bc35c4dc044c9f": {
          "model_module": "@jupyter-widgets/controls",
          "model_name": "ProgressStyleModel",
          "model_module_version": "1.5.0",
          "state": {
            "_model_module": "@jupyter-widgets/controls",
            "_model_module_version": "1.5.0",
            "_model_name": "ProgressStyleModel",
            "_view_count": null,
            "_view_module": "@jupyter-widgets/base",
            "_view_module_version": "1.2.0",
            "_view_name": "StyleView",
            "bar_color": null,
            "description_width": ""
          }
        },
        "b7cd8b006b2e4d4f97ba2ff6ba407d41": {
          "model_module": "@jupyter-widgets/base",
          "model_name": "LayoutModel",
          "model_module_version": "1.2.0",
          "state": {
            "_model_module": "@jupyter-widgets/base",
            "_model_module_version": "1.2.0",
            "_model_name": "LayoutModel",
            "_view_count": null,
            "_view_module": "@jupyter-widgets/base",
            "_view_module_version": "1.2.0",
            "_view_name": "LayoutView",
            "align_content": null,
            "align_items": null,
            "align_self": null,
            "border": null,
            "bottom": null,
            "display": null,
            "flex": null,
            "flex_flow": null,
            "grid_area": null,
            "grid_auto_columns": null,
            "grid_auto_flow": null,
            "grid_auto_rows": null,
            "grid_column": null,
            "grid_gap": null,
            "grid_row": null,
            "grid_template_areas": null,
            "grid_template_columns": null,
            "grid_template_rows": null,
            "height": null,
            "justify_content": null,
            "justify_items": null,
            "left": null,
            "margin": null,
            "max_height": null,
            "max_width": null,
            "min_height": null,
            "min_width": null,
            "object_fit": null,
            "object_position": null,
            "order": null,
            "overflow": null,
            "overflow_x": null,
            "overflow_y": null,
            "padding": null,
            "right": null,
            "top": null,
            "visibility": null,
            "width": null
          }
        },
        "5817997726014ace9aca8ced21bbcf2c": {
          "model_module": "@jupyter-widgets/controls",
          "model_name": "DescriptionStyleModel",
          "model_module_version": "1.5.0",
          "state": {
            "_model_module": "@jupyter-widgets/controls",
            "_model_module_version": "1.5.0",
            "_model_name": "DescriptionStyleModel",
            "_view_count": null,
            "_view_module": "@jupyter-widgets/base",
            "_view_module_version": "1.2.0",
            "_view_name": "StyleView",
            "description_width": ""
          }
        },
        "61ff5036ff5d479894d966aac5586fbf": {
          "model_module": "@jupyter-widgets/controls",
          "model_name": "HBoxModel",
          "model_module_version": "1.5.0",
          "state": {
            "_dom_classes": [],
            "_model_module": "@jupyter-widgets/controls",
            "_model_module_version": "1.5.0",
            "_model_name": "HBoxModel",
            "_view_count": null,
            "_view_module": "@jupyter-widgets/controls",
            "_view_module_version": "1.5.0",
            "_view_name": "HBoxView",
            "box_style": "",
            "children": [
              "IPY_MODEL_b7854a6608524f168614cb87a68096aa",
              "IPY_MODEL_f0f66ca96bfc4e95bdfd415304670bf0",
              "IPY_MODEL_1008c67cb89b40ebadada8258887fb40"
            ],
            "layout": "IPY_MODEL_8f66a8a57f02402f90635b23ff8671f5"
          }
        },
        "b7854a6608524f168614cb87a68096aa": {
          "model_module": "@jupyter-widgets/controls",
          "model_name": "HTMLModel",
          "model_module_version": "1.5.0",
          "state": {
            "_dom_classes": [],
            "_model_module": "@jupyter-widgets/controls",
            "_model_module_version": "1.5.0",
            "_model_name": "HTMLModel",
            "_view_count": null,
            "_view_module": "@jupyter-widgets/controls",
            "_view_module_version": "1.5.0",
            "_view_name": "HTMLView",
            "description": "",
            "description_tooltip": null,
            "layout": "IPY_MODEL_52d48bf79abe4ca2864f07164e8fd952",
            "placeholder": "​",
            "style": "IPY_MODEL_cadae023fa8c42c1ae4913e5f2629408",
            "value": "Downloading (…)/main/tokenizer.json: 100%"
          }
        },
        "f0f66ca96bfc4e95bdfd415304670bf0": {
          "model_module": "@jupyter-widgets/controls",
          "model_name": "FloatProgressModel",
          "model_module_version": "1.5.0",
          "state": {
            "_dom_classes": [],
            "_model_module": "@jupyter-widgets/controls",
            "_model_module_version": "1.5.0",
            "_model_name": "FloatProgressModel",
            "_view_count": null,
            "_view_module": "@jupyter-widgets/controls",
            "_view_module_version": "1.5.0",
            "_view_name": "ProgressView",
            "bar_style": "success",
            "description": "",
            "description_tooltip": null,
            "layout": "IPY_MODEL_2ababd3efe4f45e483ab2fec19a56298",
            "max": 1389353,
            "min": 0,
            "orientation": "horizontal",
            "style": "IPY_MODEL_073168ae70644c629aa2791e068f367b",
            "value": 1389353
          }
        },
        "1008c67cb89b40ebadada8258887fb40": {
          "model_module": "@jupyter-widgets/controls",
          "model_name": "HTMLModel",
          "model_module_version": "1.5.0",
          "state": {
            "_dom_classes": [],
            "_model_module": "@jupyter-widgets/controls",
            "_model_module_version": "1.5.0",
            "_model_name": "HTMLModel",
            "_view_count": null,
            "_view_module": "@jupyter-widgets/controls",
            "_view_module_version": "1.5.0",
            "_view_name": "HTMLView",
            "description": "",
            "description_tooltip": null,
            "layout": "IPY_MODEL_860deb6230584e63a68fba1346df6f83",
            "placeholder": "​",
            "style": "IPY_MODEL_5b53a2cecfc04e7e8c62bf1f2b2a8d3e",
            "value": " 1.39M/1.39M [00:00&lt;00:00, 16.2MB/s]"
          }
        },
        "8f66a8a57f02402f90635b23ff8671f5": {
          "model_module": "@jupyter-widgets/base",
          "model_name": "LayoutModel",
          "model_module_version": "1.2.0",
          "state": {
            "_model_module": "@jupyter-widgets/base",
            "_model_module_version": "1.2.0",
            "_model_name": "LayoutModel",
            "_view_count": null,
            "_view_module": "@jupyter-widgets/base",
            "_view_module_version": "1.2.0",
            "_view_name": "LayoutView",
            "align_content": null,
            "align_items": null,
            "align_self": null,
            "border": null,
            "bottom": null,
            "display": null,
            "flex": null,
            "flex_flow": null,
            "grid_area": null,
            "grid_auto_columns": null,
            "grid_auto_flow": null,
            "grid_auto_rows": null,
            "grid_column": null,
            "grid_gap": null,
            "grid_row": null,
            "grid_template_areas": null,
            "grid_template_columns": null,
            "grid_template_rows": null,
            "height": null,
            "justify_content": null,
            "justify_items": null,
            "left": null,
            "margin": null,
            "max_height": null,
            "max_width": null,
            "min_height": null,
            "min_width": null,
            "object_fit": null,
            "object_position": null,
            "order": null,
            "overflow": null,
            "overflow_x": null,
            "overflow_y": null,
            "padding": null,
            "right": null,
            "top": null,
            "visibility": null,
            "width": null
          }
        },
        "52d48bf79abe4ca2864f07164e8fd952": {
          "model_module": "@jupyter-widgets/base",
          "model_name": "LayoutModel",
          "model_module_version": "1.2.0",
          "state": {
            "_model_module": "@jupyter-widgets/base",
            "_model_module_version": "1.2.0",
            "_model_name": "LayoutModel",
            "_view_count": null,
            "_view_module": "@jupyter-widgets/base",
            "_view_module_version": "1.2.0",
            "_view_name": "LayoutView",
            "align_content": null,
            "align_items": null,
            "align_self": null,
            "border": null,
            "bottom": null,
            "display": null,
            "flex": null,
            "flex_flow": null,
            "grid_area": null,
            "grid_auto_columns": null,
            "grid_auto_flow": null,
            "grid_auto_rows": null,
            "grid_column": null,
            "grid_gap": null,
            "grid_row": null,
            "grid_template_areas": null,
            "grid_template_columns": null,
            "grid_template_rows": null,
            "height": null,
            "justify_content": null,
            "justify_items": null,
            "left": null,
            "margin": null,
            "max_height": null,
            "max_width": null,
            "min_height": null,
            "min_width": null,
            "object_fit": null,
            "object_position": null,
            "order": null,
            "overflow": null,
            "overflow_x": null,
            "overflow_y": null,
            "padding": null,
            "right": null,
            "top": null,
            "visibility": null,
            "width": null
          }
        },
        "cadae023fa8c42c1ae4913e5f2629408": {
          "model_module": "@jupyter-widgets/controls",
          "model_name": "DescriptionStyleModel",
          "model_module_version": "1.5.0",
          "state": {
            "_model_module": "@jupyter-widgets/controls",
            "_model_module_version": "1.5.0",
            "_model_name": "DescriptionStyleModel",
            "_view_count": null,
            "_view_module": "@jupyter-widgets/base",
            "_view_module_version": "1.2.0",
            "_view_name": "StyleView",
            "description_width": ""
          }
        },
        "2ababd3efe4f45e483ab2fec19a56298": {
          "model_module": "@jupyter-widgets/base",
          "model_name": "LayoutModel",
          "model_module_version": "1.2.0",
          "state": {
            "_model_module": "@jupyter-widgets/base",
            "_model_module_version": "1.2.0",
            "_model_name": "LayoutModel",
            "_view_count": null,
            "_view_module": "@jupyter-widgets/base",
            "_view_module_version": "1.2.0",
            "_view_name": "LayoutView",
            "align_content": null,
            "align_items": null,
            "align_self": null,
            "border": null,
            "bottom": null,
            "display": null,
            "flex": null,
            "flex_flow": null,
            "grid_area": null,
            "grid_auto_columns": null,
            "grid_auto_flow": null,
            "grid_auto_rows": null,
            "grid_column": null,
            "grid_gap": null,
            "grid_row": null,
            "grid_template_areas": null,
            "grid_template_columns": null,
            "grid_template_rows": null,
            "height": null,
            "justify_content": null,
            "justify_items": null,
            "left": null,
            "margin": null,
            "max_height": null,
            "max_width": null,
            "min_height": null,
            "min_width": null,
            "object_fit": null,
            "object_position": null,
            "order": null,
            "overflow": null,
            "overflow_x": null,
            "overflow_y": null,
            "padding": null,
            "right": null,
            "top": null,
            "visibility": null,
            "width": null
          }
        },
        "073168ae70644c629aa2791e068f367b": {
          "model_module": "@jupyter-widgets/controls",
          "model_name": "ProgressStyleModel",
          "model_module_version": "1.5.0",
          "state": {
            "_model_module": "@jupyter-widgets/controls",
            "_model_module_version": "1.5.0",
            "_model_name": "ProgressStyleModel",
            "_view_count": null,
            "_view_module": "@jupyter-widgets/base",
            "_view_module_version": "1.2.0",
            "_view_name": "StyleView",
            "bar_color": null,
            "description_width": ""
          }
        },
        "860deb6230584e63a68fba1346df6f83": {
          "model_module": "@jupyter-widgets/base",
          "model_name": "LayoutModel",
          "model_module_version": "1.2.0",
          "state": {
            "_model_module": "@jupyter-widgets/base",
            "_model_module_version": "1.2.0",
            "_model_name": "LayoutModel",
            "_view_count": null,
            "_view_module": "@jupyter-widgets/base",
            "_view_module_version": "1.2.0",
            "_view_name": "LayoutView",
            "align_content": null,
            "align_items": null,
            "align_self": null,
            "border": null,
            "bottom": null,
            "display": null,
            "flex": null,
            "flex_flow": null,
            "grid_area": null,
            "grid_auto_columns": null,
            "grid_auto_flow": null,
            "grid_auto_rows": null,
            "grid_column": null,
            "grid_gap": null,
            "grid_row": null,
            "grid_template_areas": null,
            "grid_template_columns": null,
            "grid_template_rows": null,
            "height": null,
            "justify_content": null,
            "justify_items": null,
            "left": null,
            "margin": null,
            "max_height": null,
            "max_width": null,
            "min_height": null,
            "min_width": null,
            "object_fit": null,
            "object_position": null,
            "order": null,
            "overflow": null,
            "overflow_x": null,
            "overflow_y": null,
            "padding": null,
            "right": null,
            "top": null,
            "visibility": null,
            "width": null
          }
        },
        "5b53a2cecfc04e7e8c62bf1f2b2a8d3e": {
          "model_module": "@jupyter-widgets/controls",
          "model_name": "DescriptionStyleModel",
          "model_module_version": "1.5.0",
          "state": {
            "_model_module": "@jupyter-widgets/controls",
            "_model_module_version": "1.5.0",
            "_model_name": "DescriptionStyleModel",
            "_view_count": null,
            "_view_module": "@jupyter-widgets/base",
            "_view_module_version": "1.2.0",
            "_view_name": "StyleView",
            "description_width": ""
          }
        }
      }
    }
  },
  "cells": [
    {
      "cell_type": "markdown",
      "metadata": {
        "id": "view-in-github",
        "colab_type": "text"
      },
      "source": [
        "<a href=\"https://colab.research.google.com/github/GarimaChopra/Generative_AI/blob/main/nlp_transformers_ch1_ex1.ipynb\" target=\"_parent\"><img src=\"https://colab.research.google.com/assets/colab-badge.svg\" alt=\"Open In Colab\"/></a>"
      ]
    },
    {
      "cell_type": "markdown",
      "source": [
        "\n",
        "**Chapter 1: Getting Started with the Model Architecture of the Transformer**\n",
        "\n",
        "Below is the basic Python code with only numpy and a softmax function in 10 steps to run the key\n",
        "aspects of the attention mechanism\n",
        "\n",
        "**Step 1 : Represent the input**\n"
      ],
      "metadata": {
        "id": "InQLMyYQD4Zq"
      }
    },
    {
      "cell_type": "code",
      "execution_count": null,
      "metadata": {
        "id": "09cuVk_8YjBs"
      },
      "outputs": [],
      "source": [
        "import numpy as np\n",
        "from scipy.special import softmax"
      ]
    },
    {
      "cell_type": "code",
      "source": [
        "print(\"Step 1: Input : 3 inputs, d_model=4\")\n",
        "x =np.array([[1.0, 0.0, 1.0, 0.0],   # Input 1\n",
        "             [0.0, 2.0, 0.0, 2.0],   # Input 2\n",
        "             [1.0, 1.0, 1.0, 1.0]])  # Input 3\n",
        "\n",
        "print(x)"
      ],
      "metadata": {
        "colab": {
          "base_uri": "https://localhost:8080/"
        },
        "id": "vAbRuVNmY0wM",
        "outputId": "90c9fed4-2818-4f0c-e4b8-9aa65a87a27b"
      },
      "execution_count": null,
      "outputs": [
        {
          "output_type": "stream",
          "name": "stdout",
          "text": [
            "Step 1: Input : 3 inputs, d_model=4\n",
            "[[1. 0. 1. 0.]\n",
            " [0. 2. 0. 2.]\n",
            " [1. 1. 1. 1.]]\n"
          ]
        }
      ]
    },
    {
      "cell_type": "markdown",
      "source": [
        "The input of the attention mechanism we are building is scaled down to dmodel = 4 instead of 512. This brings the dimensions of the vector of an input x down to 4 which is easier to visualize.Input x contains 3 inputs with 4 dimensions each instead of 512.\n",
        "\n",
        "**Step 2: Initializing the weight matrices**\n",
        "\n",
        "Each Input has 3 weights matrices to train the queries:\n",
        "\n",
        "\n",
        "![image.png](data:image/png;base64,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)"
      ],
      "metadata": {
        "id": "RrG18So8_QwH"
      }
    },
    {
      "cell_type": "code",
      "source": [
        "print(\"Step 2: weights 3 dimensions x d_model=4\")\n",
        "\n",
        "w_query =np.array([[1, 0, 1],\n",
        "                   [1, 0, 0],\n",
        "                   [0, 0, 1],\n",
        "                   [0, 1, 1]])\n",
        "\n",
        "w_key =np.array([[0, 0, 1],\n",
        "                 [1, 1, 0],\n",
        "                 [0, 1, 0],\n",
        "                 [1, 1, 0]])\n",
        "\n",
        "w_value = np.array([[0, 2, 0],\n",
        "                    [0, 3, 0],\n",
        "                    [1, 0, 3],\n",
        "                    [1, 1, 0]])\n"
      ],
      "metadata": {
        "colab": {
          "base_uri": "https://localhost:8080/"
        },
        "id": "QlBnVWiuZUzi",
        "outputId": "298dcde1-abbf-41d3-f5fb-cafad8bb722b"
      },
      "execution_count": null,
      "outputs": [
        {
          "output_type": "stream",
          "name": "stdout",
          "text": [
            "Step 2: weights 3 dimensions x d_model=4\n"
          ]
        }
      ]
    },
    {
      "cell_type": "code",
      "source": [
        "print(\"w_query\")\n",
        "print(w_query)\n",
        "\n",
        "print(\"\")\n",
        "\n",
        "print(\"w_key\")\n",
        "print(w_key)\n",
        "\n",
        "print(\"\")\n",
        "\n",
        "print(\"w_value\")\n",
        "print(w_value)\n"
      ],
      "metadata": {
        "colab": {
          "base_uri": "https://localhost:8080/"
        },
        "id": "Mpl-IoZxa9yZ",
        "outputId": "f27d7f0a-9284-44f3-80b6-c75e0be31ab3"
      },
      "execution_count": null,
      "outputs": [
        {
          "output_type": "stream",
          "name": "stdout",
          "text": [
            "w_query\n",
            "[[1 0 1]\n",
            " [1 0 0]\n",
            " [0 0 1]\n",
            " [0 1 1]]\n",
            "\n",
            "w_key\n",
            "[[0 0 1]\n",
            " [1 1 0]\n",
            " [0 1 0]\n",
            " [1 1 0]]\n",
            "\n",
            "w_value\n",
            "[[0 2 0]\n",
            " [0 3 0]\n",
            " [1 0 3]\n",
            " [1 1 0]]\n"
          ]
        }
      ]
    },
    {
      "cell_type": "markdown",
      "source": [
        "The three weight matrices are now initialized\n",
        "\n",
        "**Step 3: Matrix Multiplication to obtain Q,K,V**\n",
        "\n",
        "In this model, we will assume that there is one w_query, w_key, and w_value weight matrix for all inputs. Other approaches are also possible. Multiplying the input vectors by the w_query followed by two other multiplications"
      ],
      "metadata": {
        "id": "pa5VqTtUAjbN"
      }
    },
    {
      "cell_type": "code",
      "source": [
        "print(\"Step 3: Matrix multiplication to obtain Q,K,V\")\n",
        "print(\"Query: x * w_query\")\n",
        "\n",
        "Q=np.matmul(x,w_query)\n",
        "print(Q)\n"
      ],
      "metadata": {
        "colab": {
          "base_uri": "https://localhost:8080/"
        },
        "id": "v-oVfdXtbiNg",
        "outputId": "00a0994b-fd66-45a1-f55b-f0fb836899a6"
      },
      "execution_count": null,
      "outputs": [
        {
          "output_type": "stream",
          "name": "stdout",
          "text": [
            "Step 3: Matrix multiplication to obtain Q,K,V\n",
            "Query: x * w_query\n",
            "[[1. 0. 2.]\n",
            " [2. 2. 2.]\n",
            " [2. 1. 3.]]\n"
          ]
        }
      ]
    },
    {
      "cell_type": "code",
      "source": [
        "print(\"Key: x * w_key\")\n",
        "K=np.matmul(x,w_key)\n",
        "print(K)\n",
        "\n",
        "print()\n",
        "\n",
        "print(\"Value: x * w_value\")\n",
        "V=np.matmul(x,w_value)\n",
        "print(V)\n"
      ],
      "metadata": {
        "colab": {
          "base_uri": "https://localhost:8080/"
        },
        "id": "8UQ4hCugd6qA",
        "outputId": "886875ca-eb88-413d-c19b-1c009858723d"
      },
      "execution_count": null,
      "outputs": [
        {
          "output_type": "stream",
          "name": "stdout",
          "text": [
            "Key: x * w_key\n",
            "[[0. 1. 1.]\n",
            " [4. 4. 0.]\n",
            " [2. 3. 1.]]\n",
            "\n",
            "Value: x * w_value\n",
            "[[1. 2. 3.]\n",
            " [2. 8. 0.]\n",
            " [2. 6. 3.]]\n"
          ]
        }
      ]
    },
    {
      "cell_type": "markdown",
      "source": [
        "We have the Q, K, and V values we need to calculate the attention scores.\n",
        "\n",
        "**Step 4: Scaled attention scores**\n",
        "The attention head now implements the original Transformer equation:\n",
        "\n",
        "![image.png](data:image/png;base64,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)\n",
        "\n",
        "Step 4 focuses on Q and K:\n",
        "\n",
        "\n",
        "![image.png](data:image/png;base64,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)\n",
        "\n",
        " For this model, we will round:\n",
        "\n",
        "![image.png](data:image/png;base64,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)\n",
        "\n",
        " Plugging the values into the Q and K part of the equation:\n"
      ],
      "metadata": {
        "id": "q1RLI5BqB3iT"
      }
    },
    {
      "cell_type": "code",
      "source": [
        "print(\"Step 4: Scaled Attention Scores\")\n",
        "k_d = 1   #square root of k_d=3 rounded down to 1 for this example\n",
        "attention_scores = (Q @ K.transpose())/k_d\n",
        "\n",
        "print(attention_scores)"
      ],
      "metadata": {
        "colab": {
          "base_uri": "https://localhost:8080/"
        },
        "id": "_dPNbJbZeg_M",
        "outputId": "e4e43008-28cc-41fe-f722-5a1ae44646d4"
      },
      "execution_count": null,
      "outputs": [
        {
          "output_type": "stream",
          "name": "stdout",
          "text": [
            "Step 4: Scaled Attention Scores\n",
            "[[ 2.  4.  4.]\n",
            " [ 4. 16. 12.]\n",
            " [ 4. 12. 10.]]\n"
          ]
        }
      ]
    },
    {
      "cell_type": "markdown",
      "source": [
        "The score for x1 is [2,4,4] across the K vectors across the head as displayed\n",
        "\n",
        "**Step 5: Scaled softmax attention scores for each vector**\n",
        "\n",
        "We now apply a softmax function to each intermediate attention score.\n",
        "\n"
      ],
      "metadata": {
        "id": "2sh0NCUvDTqz"
      }
    },
    {
      "cell_type": "code",
      "source": [
        "print(\"Step 5: Scaled softmax attention_scores for each vector\")\n",
        "\n",
        "attention_scores[0]=softmax(attention_scores[0])\n",
        "attention_scores[1]=softmax(attention_scores[1])\n",
        "attention_scores[2]=softmax(attention_scores[2])\n",
        "\n",
        "print(attention_scores[0])\n",
        "print(attention_scores[1])\n",
        "print(attention_scores[2])\n"
      ],
      "metadata": {
        "colab": {
          "base_uri": "https://localhost:8080/"
        },
        "id": "lhieDHifgNBR",
        "outputId": "ec71e499-e62c-4d89-f8f1-154c802a6074"
      },
      "execution_count": null,
      "outputs": [
        {
          "output_type": "stream",
          "name": "stdout",
          "text": [
            "Step 5: Scaled softmax attention_scores for each vector\n",
            "[0.06337894 0.46831053 0.46831053]\n",
            "[6.03366485e-06 9.82007865e-01 1.79861014e-02]\n",
            "[2.95387223e-04 8.80536902e-01 1.19167711e-01]\n"
          ]
        }
      ]
    },
    {
      "cell_type": "markdown",
      "source": [
        "Step 5 is complete the softmax of the score of x1 for all the keys is avaiable.\n",
        "\n",
        "**Step 6: The Final Attention Representation**\n",
        "\n",
        "We now can finalize the attention equation by plugging V in:\n",
        "\n",
        "![image.png](data:image/png;base64,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)\n",
        "\n",
        "To obtain Attention (Q,K,V) for x1 , we multiply the intermediate attention score by the 3 value vectors one by one to zoom down into the inner workings of the equation\n",
        "\n"
      ],
      "metadata": {
        "id": "KtuuGnq5D0tD"
      }
    },
    {
      "cell_type": "code",
      "source": [
        "print(\"Step 6: attention value obtained by score1/k_d * V\")\n",
        "print(V[0])\n",
        "print(V[1])\n",
        "print(V[2])\n",
        "\n",
        "print(\"Attention 1\")\n",
        "attention1=attention_scores[0].reshape(-1,1)\n",
        "attention1=attention_scores[0][0]*V[0]\n",
        "print(attention1)\n",
        "\n",
        "print(\"Attention 2\")\n",
        "attention2=attention_scores[0][1]*V[1]\n",
        "print(attention2)\n",
        "\n",
        "print(\"Attention 3\")\n",
        "attention3=attention_scores[0][2]*V[2]\n",
        "print(attention3)"
      ],
      "metadata": {
        "colab": {
          "base_uri": "https://localhost:8080/"
        },
        "id": "ZZi0cA1_hauO",
        "outputId": "b2146479-591d-450d-873b-600e983ae480"
      },
      "execution_count": null,
      "outputs": [
        {
          "output_type": "stream",
          "name": "stdout",
          "text": [
            "Step 6: attention value obtained by score1/k_d * V\n",
            "[1. 2. 3.]\n",
            "[2. 8. 0.]\n",
            "[2. 6. 3.]\n",
            "Attention 1\n",
            "[0.06337894 0.12675788 0.19013681]\n",
            "Attention 2\n",
            "[0.93662106 3.74648425 0.        ]\n",
            "Attention 3\n",
            "[0.93662106 2.80986319 1.40493159]\n"
          ]
        }
      ]
    },
    {
      "cell_type": "markdown",
      "source": [
        "**Step 7: Summing up the results**\n",
        "\n",
        "The 3 attention values of input #1 obtained will now be summed to obtain the first line of the output matrix.\n"
      ],
      "metadata": {
        "id": "EOzkL-I7EWuc"
      }
    },
    {
      "cell_type": "code",
      "source": [
        "print(\"Step7: summed the results to create the first line of the output matrix\")\n",
        "attention_input1 = attention1+attention2+attention3\n",
        "\n",
        "print(attention_input1)\n"
      ],
      "metadata": {
        "colab": {
          "base_uri": "https://localhost:8080/"
        },
        "id": "b1orDHUQjEWS",
        "outputId": "61439cbf-c84e-4b4c-c497-f101c8451344"
      },
      "execution_count": null,
      "outputs": [
        {
          "output_type": "stream",
          "name": "stdout",
          "text": [
            "Step7: summed the results to create the first line of the output matrix\n",
            "[1.93662106 6.68310531 1.59506841]\n"
          ]
        }
      ]
    },
    {
      "cell_type": "markdown",
      "source": [
        "**Step 8: Step 1 to 7 for all the inputs**\n",
        "\n",
        "The Transformer can now produce the attention values of input #2 and input #3 using the same method described from Step 1 to Step 7 for one attention head.\n"
      ],
      "metadata": {
        "id": "FYKrCUjpFFFX"
      }
    },
    {
      "cell_type": "code",
      "source": [],
      "metadata": {
        "id": "TJTxz0zTFMle"
      },
      "execution_count": null,
      "outputs": []
    },
    {
      "cell_type": "code",
      "source": [
        "print(\"Step 8: Step 1 to 7 for inputs 1 to 3\")\n",
        "#We assume we have 3 results with learned weights (they were not trained in this example)\n",
        "#We assume we are implementing the original Transformer paper. We will have 3 results of 64 dimensions each\n",
        "\n",
        "attention_head1=np.random.random((3, 64))\n",
        "print(attention_head1)\n",
        "\n"
      ],
      "metadata": {
        "colab": {
          "base_uri": "https://localhost:8080/"
        },
        "id": "VhYQsCXrkLBn",
        "outputId": "2a093f13-6e34-4f91-f157-6d66ba4c956b"
      },
      "execution_count": null,
      "outputs": [
        {
          "output_type": "stream",
          "name": "stdout",
          "text": [
            "Step 8: Step 1 to 7 for inputs 1 to 3\n",
            "[[0.52115901 0.01656375 0.24793948 0.17660555 0.91473313 0.9443695\n",
            "  0.37804583 0.88631983 0.0357742  0.6721272  0.18666813 0.86957501\n",
            "  0.22797953 0.52428554 0.3454355  0.74811115 0.08654997 0.39335152\n",
            "  0.95432039 0.44328435 0.74662518 0.85764452 0.8546517  0.50023318\n",
            "  0.51598493 0.32784006 0.16635495 0.50881396 0.46957432 0.83597843\n",
            "  0.87116208 0.14844952 0.51042436 0.78285764 0.80075332 0.32732785\n",
            "  0.12511711 0.58113725 0.6041247  0.51001741 0.70148996 0.09834461\n",
            "  0.42094653 0.8567917  0.47149352 0.65339993 0.35760666 0.69134405\n",
            "  0.95401765 0.76647956 0.71443492 0.7138796  0.43067987 0.35175014\n",
            "  0.59054607 0.3204825  0.31050956 0.14223492 0.75147187 0.81897217\n",
            "  0.81584139 0.08986238 0.08163794 0.11939357]\n",
            " [0.10616637 0.7736782  0.4786764  0.32868498 0.14719534 0.16096273\n",
            "  0.3803775  0.87837483 0.43964002 0.90611908 0.74518166 0.14959342\n",
            "  0.47261704 0.20458225 0.86528875 0.36135015 0.18187977 0.76377729\n",
            "  0.79461613 0.91818564 0.76542094 0.78443045 0.41851564 0.23435224\n",
            "  0.23548848 0.2483205  0.79603145 0.04012978 0.95577462 0.04794034\n",
            "  0.60189033 0.30158094 0.30912383 0.95172359 0.86502956 0.16092306\n",
            "  0.10293568 0.12846952 0.62608633 0.94976338 0.49978555 0.27846921\n",
            "  0.61473973 0.5446957  0.57458408 0.12907045 0.51864265 0.13424188\n",
            "  0.9001607  0.54711708 0.57498957 0.72668149 0.41669809 0.54268539\n",
            "  0.98513471 0.38075239 0.38881699 0.1504004  0.1029521  0.53373169\n",
            "  0.22315225 0.92095755 0.16906032 0.63893179]\n",
            " [0.79385119 0.49193757 0.32163764 0.18473717 0.906131   0.69810877\n",
            "  0.89305907 0.36763266 0.79919397 0.3553206  0.94116916 0.6402388\n",
            "  0.69091231 0.8184742  0.74368157 0.43941666 0.71305915 0.7553716\n",
            "  0.51659616 0.37199875 0.20865565 0.69415123 0.90935609 0.75818792\n",
            "  0.09264932 0.98130842 0.48236848 0.30633445 0.3786002  0.0131084\n",
            "  0.81574645 0.1448184  0.27818513 0.93357704 0.73964097 0.56752983\n",
            "  0.31888126 0.28596029 0.32389377 0.15619827 0.3972369  0.03880257\n",
            "  0.6265953  0.18882103 0.31286202 0.04732548 0.61581939 0.2063763\n",
            "  0.26534831 0.681438   0.0834534  0.86755311 0.77545262 0.035749\n",
            "  0.16404679 0.70135714 0.3257579  0.71770043 0.42852596 0.45194222\n",
            "  0.44264047 0.11248707 0.03575146 0.98399697]]\n"
          ]
        }
      ]
    },
    {
      "cell_type": "markdown",
      "source": [
        "The following output displays the simulation of z0, which represents the 3 output vectors of dmodel= 64 dimensions for head 1\n",
        "\n",
        "**Step 9: The output of the heads of the attention sub-Layer**\n",
        "\n",
        "We assume that we have trained the 8 heads of the attention sub-layer.\n",
        "\n",
        "The transformer now has 3 output vectors (of the 3 input vectors that are words or word pieces) of 64 dimensions each\n",
        "\n",
        "The 8 heads have now produced Z:\n",
        "\n",
        "\n",
        "![image.png](data:image/png;base64,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)\n",
        "\n",
        "\n",
        "The Transformer will now concatenate the 8 elements of Z for the final output of the multi-head attention sub-layer."
      ],
      "metadata": {
        "id": "dce9Due_FZA3"
      }
    },
    {
      "cell_type": "code",
      "source": [
        "print(\"Step 9: We assume we have trained the 8 heads of the attentionsub-layer\")\n",
        "z0h1=np.random.random((3, 64))\n",
        "z1h2=np.random.random((3, 64))\n",
        "z2h3=np.random.random((3, 64))\n",
        "z3h4=np.random.random((3, 64))\n",
        "z4h5=np.random.random((3, 64))\n",
        "z5h6=np.random.random((3, 64))\n",
        "z6h7=np.random.random((3, 64))\n",
        "z7h8=np.random.random((3, 64))\n",
        "\n",
        "print(\"shape of one head\",z0h1.shape,\"dimension of 8 heads\",64*8)\n"
      ],
      "metadata": {
        "id": "3LcpYrb1mGUf",
        "colab": {
          "base_uri": "https://localhost:8080/"
        },
        "outputId": "5230d605-ffca-4094-f2e2-1aff591dd425"
      },
      "execution_count": null,
      "outputs": [
        {
          "output_type": "stream",
          "name": "stdout",
          "text": [
            "Step 9: We assume we have trained the 8 heads of the attentionsub-layer\n",
            "shape of one head (3, 64) dimension of 8 heads 512\n"
          ]
        }
      ]
    },
    {
      "cell_type": "markdown",
      "source": [
        "**Step 10: Concatenation of the output of the heads**\n",
        "\n",
        "The Transformer concatenates the 8 elements of Z:\n",
        "\n",
        "![image.png](data:image/png;base64,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)\n",
        "\n",
        "Note that Z is multiplied by W0, which is a weight matrix that is trained as well.\n",
        "\n",
        "In this model, we will assume W0 is trained and integrated into the concatenation function.\n",
        "\n",
        "The concatenation produced a standard 512 dimensional output"
      ],
      "metadata": {
        "id": "Sk4Ulg1LGK5f"
      }
    },
    {
      "cell_type": "code",
      "source": [
        "print(\"Step 10: Concantenation of heads 1 to 8 to obtain the original 8x64=512 ouput dimension of the model\")\n",
        "output_attention=np.hstack((z0h1,z1h2,z2h3,z3h4,z4h5,z5h6,z6h7,z7h8))\n",
        "\n",
        "print(output_attention)\n",
        "\n"
      ],
      "metadata": {
        "colab": {
          "base_uri": "https://localhost:8080/"
        },
        "id": "M3oqqm_v7JIG",
        "outputId": "88a757a6-b1b6-47c5-db03-c9d1664c6baf"
      },
      "execution_count": null,
      "outputs": [
        {
          "output_type": "stream",
          "name": "stdout",
          "text": [
            "Step 10: Concantenation of heads 1 to 8 to obtain the original 8x64=512 ouput dimension of the model\n",
            "[[0.2508158  0.39547287 0.5955745  ... 0.76724877 0.86724641 0.99712302]\n",
            " [0.9731373  0.83183332 0.50876736 ... 0.13838739 0.74069549 0.99932908]\n",
            " [0.67224582 0.55728162 0.26666948 ... 0.75955466 0.37848677 0.93120948]]\n"
          ]
        }
      ]
    },
    {
      "cell_type": "code",
      "source": [
        "# We first ensure that Hugging Face's transformers are installed:\n",
        "\n",
        "!pip -qq install transformers\n"
      ],
      "metadata": {
        "colab": {
          "base_uri": "https://localhost:8080/"
        },
        "id": "AGE-qthY7aGx",
        "outputId": "ab116cba-b7c5-4fd7-f2d8-d7015a1079b5"
      },
      "execution_count": null,
      "outputs": [
        {
          "output_type": "stream",
          "name": "stdout",
          "text": [
            "\u001b[2K     \u001b[90m━━━━━━━━━━━━━━━━━━━━━━━━━━━━━━━━━━━━━━━━\u001b[0m \u001b[32m7.6/7.6 MB\u001b[0m \u001b[31m15.9 MB/s\u001b[0m eta \u001b[36m0:00:00\u001b[0m\n",
            "\u001b[2K     \u001b[90m━━━━━━━━━━━━━━━━━━━━━━━━━━━━━━━━━━━━━━\u001b[0m \u001b[32m268.8/268.8 kB\u001b[0m \u001b[31m14.9 MB/s\u001b[0m eta \u001b[36m0:00:00\u001b[0m\n",
            "\u001b[2K     \u001b[90m━━━━━━━━━━━━━━━━━━━━━━━━━━━━━━━━━━━━━━━━\u001b[0m \u001b[32m7.8/7.8 MB\u001b[0m \u001b[31m33.3 MB/s\u001b[0m eta \u001b[36m0:00:00\u001b[0m\n",
            "\u001b[2K     \u001b[90m━━━━━━━━━━━━━━━━━━━━━━━━━━━━━━━━━━━━━━━━\u001b[0m \u001b[32m1.3/1.3 MB\u001b[0m \u001b[31m44.9 MB/s\u001b[0m eta \u001b[36m0:00:00\u001b[0m\n",
            "\u001b[?25h"
          ]
        }
      ]
    },
    {
      "cell_type": "code",
      "source": [
        "# We then import the Hugging Face pipeline, which contains several transformer usages:\n",
        "\n",
        "from transformers import pipeline\n",
        "\n"
      ],
      "metadata": {
        "id": "ZQrEsRYNFurM"
      },
      "execution_count": null,
      "outputs": []
    },
    {
      "cell_type": "code",
      "source": [
        "#  to illustrate the Transformer model of this chapter, we activate the\n",
        "# translator model and enter a sentence to translate from English to French:\n",
        "\n",
        "translator = pipeline(\"translation_en_to_fr\")\n",
        "\n",
        "#One line of code!\n",
        "print(translator(\"It is easy to translate languages with transformers\", max_length=40))\n",
        "\n"
      ],
      "metadata": {
        "colab": {
          "base_uri": "https://localhost:8080/",
          "height": 353,
          "referenced_widgets": [
            "5209e4d190ec4328aee7007c5fd2b43e",
            "fff2ab870af6452588bc9d8a26572194",
            "d4df7356962641cfa77a57073d96e3c4",
            "2273d51030d44066bfc3104a1428fb55",
            "ea7c59957bfe4e448b9e993a28133091",
            "afb9dcab6b1643fe8af61b881e29ed94",
            "a788197d10ad423a99c6bde945fbae97",
            "f958f9cb116341c483148e7e13a9ec58",
            "526220ebdc3d472bb8f1a340de2b1673",
            "920f8a54afe5409db1ce6c77e2a3f01a",
            "bcdf3d26ec8448e29737e4c06595dbe2",
            "adfecd2e78de43698aea90242aa58e0a",
            "22d9b32b335e4ce68751a226a84fff12",
            "9bbdfb062f544ddba2c635f22bc9eaeb",
            "7ab36cb718814970964bc28bf8cc052c",
            "92b5420d008e41ac873f05aececa0c92",
            "c9aa21a9eb96489bb54a33ed84ac1753",
            "24266e3c32084b4c804a1e699d091a12",
            "353b091d907c4567bdccd31f09d6dc76",
            "0cc15c910fba4a52af884ba3b3457606",
            "c0b67a689b214f4b91a389dd227b0dd3",
            "d2abd41fcf3e4e93bc33c966ea2d1475",
            "07edd47e6c66496e89791e5d109464f2",
            "195955080654401e9843fce11f165db6",
            "bd9b9b5aa78444ac9c7747472e1bb19b",
            "5fae03d5b1fc49888114728f9cfd9ca2",
            "7d2fe5538b3d40399249cf3e43f83392",
            "509feac29aa84d059727bcf5947c27cd",
            "03723602fb92472f9bdc561dc74741ac",
            "07a7adda0e3d482ea69fc8195d817a77",
            "5db3d22e42cd487ab73177d290c76ff3",
            "bf6accaa9b804f24a2386ef03ba6d095",
            "d8b82e1a30fc4109acdcbbc6ea5d9214",
            "3a9b78d3a955461abd1ac4a7c5adad77",
            "ee0c37f4a6074458955068aa77ac3770",
            "d323a791b43c4d6eb9286e40d9f4f69b",
            "8d0cea935eb24227a04d4e2a71df0f9c",
            "0585d38999fb4f169c7b408d0f1884eb",
            "0730bcbd1cd04867acf324aeb3d9f6b7",
            "1a8b6442e4684753abd03c30dc0d7cd5",
            "f56d9329dd69421e831f92d0cf2f24e2",
            "a7e28837b8784aa688bc35c4dc044c9f",
            "b7cd8b006b2e4d4f97ba2ff6ba407d41",
            "5817997726014ace9aca8ced21bbcf2c",
            "61ff5036ff5d479894d966aac5586fbf",
            "b7854a6608524f168614cb87a68096aa",
            "f0f66ca96bfc4e95bdfd415304670bf0",
            "1008c67cb89b40ebadada8258887fb40",
            "8f66a8a57f02402f90635b23ff8671f5",
            "52d48bf79abe4ca2864f07164e8fd952",
            "cadae023fa8c42c1ae4913e5f2629408",
            "2ababd3efe4f45e483ab2fec19a56298",
            "073168ae70644c629aa2791e068f367b",
            "860deb6230584e63a68fba1346df6f83",
            "5b53a2cecfc04e7e8c62bf1f2b2a8d3e"
          ]
        },
        "id": "EcEsNyvtGBfi",
        "outputId": "e9281d44-6676-41a1-b510-48729d151fed"
      },
      "execution_count": null,
      "outputs": [
        {
          "output_type": "stream",
          "name": "stderr",
          "text": [
            "No model was supplied, defaulted to t5-base and revision 686f1db (https://huggingface.co/t5-base).\n",
            "Using a pipeline without specifying a model name and revision in production is not recommended.\n"
          ]
        },
        {
          "output_type": "display_data",
          "data": {
            "text/plain": [
              "Downloading (…)lve/main/config.json:   0%|          | 0.00/1.21k [00:00<?, ?B/s]"
            ],
            "application/vnd.jupyter.widget-view+json": {
              "version_major": 2,
              "version_minor": 0,
              "model_id": "5209e4d190ec4328aee7007c5fd2b43e"
            }
          },
          "metadata": {}
        },
        {
          "output_type": "display_data",
          "data": {
            "text/plain": [
              "Downloading model.safetensors:   0%|          | 0.00/892M [00:00<?, ?B/s]"
            ],
            "application/vnd.jupyter.widget-view+json": {
              "version_major": 2,
              "version_minor": 0,
              "model_id": "adfecd2e78de43698aea90242aa58e0a"
            }
          },
          "metadata": {}
        },
        {
          "output_type": "display_data",
          "data": {
            "text/plain": [
              "Downloading (…)neration_config.json:   0%|          | 0.00/147 [00:00<?, ?B/s]"
            ],
            "application/vnd.jupyter.widget-view+json": {
              "version_major": 2,
              "version_minor": 0,
              "model_id": "07edd47e6c66496e89791e5d109464f2"
            }
          },
          "metadata": {}
        },
        {
          "output_type": "display_data",
          "data": {
            "text/plain": [
              "Downloading (…)ve/main/spiece.model:   0%|          | 0.00/792k [00:00<?, ?B/s]"
            ],
            "application/vnd.jupyter.widget-view+json": {
              "version_major": 2,
              "version_minor": 0,
              "model_id": "3a9b78d3a955461abd1ac4a7c5adad77"
            }
          },
          "metadata": {}
        },
        {
          "output_type": "display_data",
          "data": {
            "text/plain": [
              "Downloading (…)/main/tokenizer.json:   0%|          | 0.00/1.39M [00:00<?, ?B/s]"
            ],
            "application/vnd.jupyter.widget-view+json": {
              "version_major": 2,
              "version_minor": 0,
              "model_id": "61ff5036ff5d479894d966aac5586fbf"
            }
          },
          "metadata": {}
        },
        {
          "output_type": "stream",
          "name": "stderr",
          "text": [
            "/usr/local/lib/python3.10/dist-packages/transformers/models/t5/tokenization_t5_fast.py:158: FutureWarning: This tokenizer was incorrectly instantiated with a model max length of 512 which will be corrected in Transformers v5.\n",
            "For now, this behavior is kept to avoid breaking backwards compatibility when padding/encoding with `truncation is True`.\n",
            "- Be aware that you SHOULD NOT rely on t5-base automatically truncating your input to 512 when padding/encoding.\n",
            "- If you want to encode/pad to sequences longer than 512 you can either instantiate this tokenizer with `model_max_length` or pass `max_length` when encoding/padding.\n",
            "- To avoid this warning, please instantiate this tokenizer with `model_max_length` set to your preferred value.\n",
            "  warnings.warn(\n"
          ]
        },
        {
          "output_type": "stream",
          "name": "stdout",
          "text": [
            "[{'translation_text': \"Il est facile de traduire des langues à l'aide de transformateurs\"}]\n"
          ]
        }
      ]
    }
  ]
}